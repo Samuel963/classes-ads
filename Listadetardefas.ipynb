{
  "nbformat": 4,
  "nbformat_minor": 0,
  "metadata": {
    "colab": {
      "provenance": [],
      "authorship_tag": "ABX9TyPFNu1ZjNYX3rqKSa5G+z59",
      "include_colab_link": true
    },
    "kernelspec": {
      "name": "python3",
      "display_name": "Python 3"
    },
    "language_info": {
      "name": "python"
    }
  },
  "cells": [
    {
      "cell_type": "markdown",
      "metadata": {
        "id": "view-in-github",
        "colab_type": "text"
      },
      "source": [
        "<a href=\"https://colab.research.google.com/github/Samuel963/classes-ads/blob/main/Listadetardefas.ipynb\" target=\"_parent\"><img src=\"https://colab.research.google.com/assets/colab-badge.svg\" alt=\"Open In Colab\"/></a>"
      ]
    },
    {
      "cell_type": "code",
      "execution_count": null,
      "metadata": {
        "id": "Iwe3MiQipId7"
      },
      "outputs": [],
      "source": [
        "import json\n",
        "import os\n",
        "\n",
        "def carregar_tarefas(caminho_arquivo):\n",
        "    if os.path.exists(caminho_arquivo):\n",
        "        with open(caminho_arquivo, 'r') as arquivo:\n",
        "            return json.load(arquivo)\n",
        "    return []\n",
        "\n",
        "def salvar_tarefas(caminho_arquivo, lista_tarefas):\n",
        "    with open(caminho_arquivo, 'w') as arquivo:\n",
        "        json.dump(lista_tarefas, arquivo, indent=4)\n",
        "\n",
        "def mostrar_menu():\n",
        "    print(\"\\n--- Gerenciador de Tarefas ---\")\n",
        "    print(\"1. Adicionar tarefa\")\n",
        "    print(\"2. Listar tarefas\")\n",
        "    print(\"3. Concluir tarefa\")\n",
        "    print(\"4. Sair\")\n",
        "\n",
        "def adicionar_tarefa(lista_tarefas):\n",
        "    descricao = input(\"Descrição da tarefa: \").strip()\n",
        "    while not descricao:\n",
        "        descricao = input(\"Descrição não pode ser vazia. Digite novamente: \").strip()\n",
        "\n",
        "    prioridade = input(\"Prioridade (baixa/média/alta): \").lower().strip()\n",
        "    while prioridade not in [\"baixa\", \"média\", \"alta\"]:\n",
        "        prioridade = input(\"Prioridade inválida. Use baixa, média ou alta: \").lower().strip()\n",
        "\n",
        "    id_novo = max([t['id'] for t in lista_tarefas], default=0) + 1\n",
        "    nova_tarefa = {\n",
        "        \"id\": id_novo,\n",
        "        \"descricao\": descricao,\n",
        "        \"prioridade\": prioridade,\n",
        "        \"concluida\": False\n",
        "    }\n",
        "    lista_tarefas.append(nova_tarefa)\n",
        "    print(f\"Tarefa adicionada com ID {id_novo}.\")\n",
        "\n",
        "def listar_tarefas(lista_tarefas):\n",
        "    if not lista_tarefas:\n",
        "        print(\"Nenhuma tarefa cadastrada.\")\n",
        "        return\n",
        "    print(\"\\n--- Lista de Tarefas ---\")\n",
        "    for tarefa in lista_tarefas:\n",
        "        status = \"Concluído\" if tarefa['concluida'] else \"Pendente\"\n",
        "        print(f\"ID: {tarefa['id']} | {status} | Prioridade: {tarefa['prioridade']} | Descrição: {tarefa['descricao']}\")\n",
        "\n",
        "def concluir_tarefa(lista_tarefas, id_tarefa):\n",
        "    for tarefa in lista_tarefas:\n",
        "        if tarefa[\"id\"] == id_tarefa:\n",
        "            if tarefa[\"concluida\"]:\n",
        "                print(\"Essa tarefa já está concluída.\")\n",
        "            else:\n",
        "                tarefa[\"concluida\"] = True\n",
        "                print(\"Tarefa marcada como concluída.\")\n",
        "            return\n",
        "    print(\"Tarefa com esse ID não encontrada.\")\n",
        "\n",
        "\n",
        "caminho_arquivo = \"tarefas.json\"\n",
        "lista_tarefas = carregar_tarefas(caminho_arquivo)\n",
        "\n",
        "while True:\n",
        "    mostrar_menu()\n",
        "    opcao = input(\"Escolha uma opção: \")\n",
        "\n",
        "    if opcao == \"1\":\n",
        "        adicionar_tarefa(lista_tarefas)\n",
        "    elif opcao == \"2\":\n",
        "        listar_tarefas(lista_tarefas)\n",
        "    elif opcao == \"3\":\n",
        "        try:\n",
        "            id_tarefa = int(input(\"Digite o ID da tarefa a concluir: \"))\n",
        "            concluir_tarefa(lista_tarefas, id_tarefa)\n",
        "        except ValueError:\n",
        "            print(\"ID inválido. Use um número inteiro.\")\n",
        "    elif opcao == \"4\":\n",
        "        salvar_tarefas(caminho_arquivo, lista_tarefas)\n",
        "        print(\"Tarefas salvas. Saindo...\")\n",
        "        break\n",
        "    else:\n",
        "        print(\"Opção inválida. Tente novamente.\")"
      ]
    }
  ]
}