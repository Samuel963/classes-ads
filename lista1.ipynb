{
  "nbformat": 4,
  "nbformat_minor": 0,
  "metadata": {
    "colab": {
      "provenance": [],
      "authorship_tag": "ABX9TyObj6alidW9leCLQfW4puDB",
      "include_colab_link": true
    },
    "kernelspec": {
      "name": "python3",
      "display_name": "Python 3"
    },
    "language_info": {
      "name": "python"
    }
  },
  "cells": [
    {
      "cell_type": "markdown",
      "metadata": {
        "id": "view-in-github",
        "colab_type": "text"
      },
      "source": [
        "<a href=\"https://colab.research.google.com/github/Samuel963/classes-ads/blob/main/lista1.ipynb\" target=\"_parent\"><img src=\"https://colab.research.google.com/assets/colab-badge.svg\" alt=\"Open In Colab\"/></a>"
      ]
    },
    {
      "cell_type": "code",
      "execution_count": null,
      "metadata": {
        "id": "veR2qMV_qz_G"
      },
      "outputs": [],
      "source": [
        "salario = float(input(\"Digite o valor do salario:\"))\n",
        "porcentagem_aumento = float(input(\"Digite a porcentagem :\"))\n",
        "\n",
        "aumento = salario * (porcentagem_aumento / 100)\n",
        "novo_salario = salario + aumento\n",
        "\n",
        "print(f\"aumento: R$ {aumento:.2f}\")\n",
        "print(f\"novo_salario: R$ {novo_salario:.2f}\")"
      ]
    },
    {
      "cell_type": "code",
      "source": [
        "mercadoria = float(input(\"Digite o valor da mercadoria :\"))\n",
        "percentual_desconto = float(input(\"Digite o valor do desconto :\"))\n",
        "\n",
        "desconto = mercadoria * (percentual_desconto / 100)\n",
        "valor_final = mercadoria - desconto\n",
        "\n",
        "print(f\"valor final: R$ {valor_final:.2f}\")\n",
        "print(f\"desconto: R$ {desconto:.2f}\")"
      ],
      "metadata": {
        "id": "JVMzTenHq2pO"
      },
      "execution_count": null,
      "outputs": []
    },
    {
      "cell_type": "code",
      "source": [
        "metros = float(input(\"Digite o valor dos metros: \"))\n",
        "\n",
        "milimetros = metros * 1000\n",
        "\n",
        "print(f\"{metros} metros é igual a {milimetros} milímetros.\")"
      ],
      "metadata": {
        "id": "uT03-ByLq5C7"
      },
      "execution_count": null,
      "outputs": []
    },
    {
      "cell_type": "code",
      "source": [
        "salario = 750.00\n",
        "percentual_aumento = 15\n",
        "\n",
        "aumento = salario * (percentual_aumento / 100)\n",
        "\n",
        "salario_final = salario + aumento\n",
        "\n",
        "print(f\"Aumento: R$ {aumento:.2f}\")\n",
        "print(f\"Salário final: R$ {salario_final:.2f}\")"
      ],
      "metadata": {
        "id": "lg6L9FBHq7BK"
      },
      "execution_count": null,
      "outputs": []
    },
    {
      "cell_type": "code",
      "source": [
        "e = 1\n",
        "l = 2\n",
        "n = 3\n",
        "\n",
        "resultado = e + l + n\n",
        "\n",
        "print(\"O resultado de e + l + n é:\",resultado)"
      ],
      "metadata": {
        "id": "suujCuCDq9Rp"
      },
      "execution_count": null,
      "outputs": []
    },
    {
      "cell_type": "code",
      "source": [
        "a = 3\n",
        "b = 5\n",
        "\n",
        "resultado = 2 * a * 3 * b\n",
        "\n",
        "print(\"O resultado de 2 * a * 3 * b é :\", resultado)"
      ],
      "metadata": {
        "id": "1O1T9-ubq_sq"
      },
      "execution_count": null,
      "outputs": []
    },
    {
      "cell_type": "code",
      "source": [
        "print(\"Samuel\")"
      ],
      "metadata": {
        "id": "rNeJZrJUrEu6"
      },
      "execution_count": null,
      "outputs": []
    }
  ]
}