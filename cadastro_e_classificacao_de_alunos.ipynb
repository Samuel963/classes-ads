{
  "nbformat": 4,
  "nbformat_minor": 0,
  "metadata": {
    "colab": {
      "provenance": [],
      "authorship_tag": "ABX9TyPP+Kn9LOLvN47OwCdOcmbx",
      "include_colab_link": true
    },
    "kernelspec": {
      "name": "python3",
      "display_name": "Python 3"
    },
    "language_info": {
      "name": "python"
    }
  },
  "cells": [
    {
      "cell_type": "markdown",
      "metadata": {
        "id": "view-in-github",
        "colab_type": "text"
      },
      "source": [
        "<a href=\"https://colab.research.google.com/github/Samuel963/classes-ads/blob/main/cadastro_e_classificacao_de_alunos.ipynb\" target=\"_parent\"><img src=\"https://colab.research.google.com/assets/colab-badge.svg\" alt=\"Open In Colab\"/></a>"
      ]
    },
    {
      "cell_type": "code",
      "execution_count": 19,
      "metadata": {
        "colab": {
          "base_uri": "https://localhost:8080/"
        },
        "id": "aEb6mOxzj1tw",
        "outputId": "e9ddf6ca-50e9-4900-9a9c-aceb68d53608"
      },
      "outputs": [
        {
          "name": "stdout",
          "output_type": "stream",
          "text": [
            "----------- Cadastro de alunos -----------\n",
            "Cadastrar novo aluno? 1 sim, ou 0 para sair: 1\n",
            "Digite o nome do aluno: samuel\n",
            "Digite a nota do aluno: 8\n",
            "Cadastrar novo aluno? 1 sim, ou 0 para sair: 1\n",
            "Digite o nome do aluno: juileu\n",
            "Digite a nota do aluno: 5\n",
            "Cadastrar novo aluno? 1 sim, ou 0 para sair: 1\n",
            "Digite o nome do aluno: aristovaldo\n",
            "Digite a nota do aluno: 3\n",
            "Cadastrar novo aluno? 1 sim, ou 0 para sair: 0\n",
            "----------- Classifiação geral dos alunos -----------\n",
            "Total de alunos cadastrados: 3\n",
            "Total de alunos APROVADOS: 1\n",
            "Total de alunos em RECUPERACAO: 1\n",
            "Total de alunos REPROVADOS: 1\n",
            "----------- Lista de alunos -----------\n",
            "Nome: samuel - Nota: 8.0 - Status: Aprovado\n",
            "Nome: juileu - Nota: 5.0 - Status: Recuperacao\n",
            "Nome: aristovaldo - Nota: 3.0 - Status: Reprovados\n",
            "Deseja exportar a lista como .json? 1 sim, 0 não1\n"
          ]
        }
      ],
      "source": [
        "import json\n",
        "\n",
        "alunos = []\n",
        "contadorDeCriacao = 1\n",
        "totalAprovados = 0\n",
        "totalRecuperacao = 0\n",
        "totalReprovados = 0\n",
        "vaiExportar = 3\n",
        "\n",
        "print(\"----------- Cadastro de alunos -----------\")\n",
        "\n",
        "while contadorDeCriacao != 0:\n",
        "  contadorDeCriacao = int(input(\"Cadastrar novo aluno? 1 sim, ou 0 para sair: \"))\n",
        "\n",
        "  if contadorDeCriacao == 0:\n",
        "    break\n",
        "\n",
        "  nome = input(\"Digite o nome do aluno: \")\n",
        "  nota = float(input(\"Digite a nota do aluno: \"))\n",
        "\n",
        "  alunos.append({\"nome\": nome, \"nota\": nota})\n",
        "\n",
        "print(\"----------- Classifiação geral dos alunos -----------\")\n",
        "\n",
        "for index, aluno in enumerate(alunos):\n",
        "  if aluno[\"nota\"] >= 7:\n",
        "    totalAprovados += 1\n",
        "    alunos[index][\"status\"] = \"Aprovado\"\n",
        "    continue\n",
        "\n",
        "  if aluno[\"nota\"] >= 4 and aluno[\"nota\"] <= 6:\n",
        "    totalRecuperacao += 1\n",
        "    alunos[index][\"status\"] = \"Recuperacao\"\n",
        "    continue\n",
        "\n",
        "  totalReprovados += 1\n",
        "  alunos[index][\"status\"] = \"Reprovados\"\n",
        "\n",
        "print(\"Total de alunos cadastrados: \" + str(len(alunos)))\n",
        "print(\"Total de alunos APROVADOS: \" + str(totalAprovados))\n",
        "print(\"Total de alunos em RECUPERACAO: \" + str(totalRecuperacao))\n",
        "print(\"Total de alunos REPROVADOS: \" + str(totalReprovados))\n",
        "\n",
        "\n",
        "print(\"----------- Lista de alunos -----------\")\n",
        "\n",
        "for aluno in alunos:\n",
        "  print(\"Nome: \" + aluno[\"nome\"] + \" - Nota: \" + str(aluno[\"nota\"]) + \" - Status: \" + aluno[\"status\"])\n",
        "\n",
        "while vaiExportar != 1 and vaiExportar != 0:\n",
        "  vaiExportar = int(input(\"Deseja exportar a lista como .json? 1 sim, 0 não\"))\n",
        "\n",
        "if vaiExportar == 1:\n",
        "  with open(\"alunos.json\", \"w\", encoding=\"utf-8\") as arquivo:\n",
        "    json.dump(alunos, arquivo, ensure_ascii=False, indent=4)"
      ]
    },
    {
      "cell_type": "code",
      "source": [],
      "metadata": {
        "id": "0zOxGOuXr4wN"
      },
      "execution_count": null,
      "outputs": []
    }
  ]
}